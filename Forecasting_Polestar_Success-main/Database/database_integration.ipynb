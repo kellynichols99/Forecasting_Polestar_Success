{
 "cells": [
  {
   "cell_type": "code",
   "execution_count": 9,
   "id": "590ae7c8",
   "metadata": {},
   "outputs": [],
   "source": [
    "#dependencies for joining the files\n",
    "import pandas as pd\n",
    "import glob\n",
    "import os\n",
    "from pathlib import Path "
   ]
  },
  {
   "cell_type": "code",
   "execution_count": 10,
   "id": "89ee462a",
   "metadata": {},
   "outputs": [],
   "source": [
    " # setting the path for joining multiple files\n",
    "files = os.path.join(\"./machine_learning/resources\", \"*.csv\")"
   ]
  },
  {
   "cell_type": "code",
   "execution_count": 11,
   "id": "bda0ec3b",
   "metadata": {},
   "outputs": [],
   "source": [
    "#merge the files\n",
    "files = glob.glob(files)"
   ]
  },
  {
   "cell_type": "code",
   "execution_count": 12,
   "id": "8ea34361",
   "metadata": {},
   "outputs": [
    {
     "name": "stdout",
     "output_type": "stream",
     "text": [
      "['./machine_learning/resources/LI.csv', './machine_learning/resources/XPEV.csv', './machine_learning/resources/FSR.csv', './machine_learning/resources/FFIE.csv', './machine_learning/resources/NIO.csv', './machine_learning/resources/TSLA.csv', './machine_learning/resources/RIVN.csv', './machine_learning/resources/LCID.csv', './machine_learning/resources/NKLA.csv', './machine_learning/resources/PSNY.csv']\n"
     ]
    }
   ],
   "source": [
    "print(files)"
   ]
  },
  {
   "cell_type": "code",
   "execution_count": 13,
   "id": "61b66ddb",
   "metadata": {},
   "outputs": [
    {
     "name": "stdout",
     "output_type": "stream",
     "text": [
      "            Date      Close    Volume Ticker\n",
      "0     2020-07-30  16.459999  64611300     LI\n",
      "1     2020-07-31  16.000000  19532800     LI\n",
      "2     2020-08-03  16.360001  11740000     LI\n",
      "3     2020-08-04  16.690001   7781800     LI\n",
      "4     2020-08-05  16.750000   3991400     LI\n",
      "...          ...        ...       ...    ...\n",
      "8400  2022-07-19   9.520000   1857400   PSNY\n",
      "8401  2022-07-20   9.450000   2084700   PSNY\n",
      "8402  2022-07-21   9.560000   1828100   PSNY\n",
      "8403  2022-07-22   8.910000   2896400   PSNY\n",
      "8404  2022-07-25   8.950000   1910500   PSNY\n",
      "\n",
      "[8405 rows x 4 columns]\n"
     ]
    }
   ],
   "source": [
    "#show the new DataFrame\n",
    "df = pd.concat(map(pd.read_csv, files), ignore_index=True)\n",
    "print(df)"
   ]
  },
  {
   "cell_type": "code",
   "execution_count": 18,
   "id": "7a3def13",
   "metadata": {},
   "outputs": [],
   "source": [
    "df.to_csv(\"combined.csv\")"
   ]
  },
  {
   "cell_type": "code",
   "execution_count": null,
   "id": "ebb89925",
   "metadata": {},
   "outputs": [],
   "source": []
  }
 ],
 "metadata": {
  "kernelspec": {
   "display_name": "Python 3 (ipykernel)",
   "language": "python",
   "name": "python3"
  },
  "language_info": {
   "codemirror_mode": {
    "name": "ipython",
    "version": 3
   },
   "file_extension": ".py",
   "mimetype": "text/x-python",
   "name": "python",
   "nbconvert_exporter": "python",
   "pygments_lexer": "ipython3",
   "version": "3.7.11"
  }
 },
 "nbformat": 4,
 "nbformat_minor": 5
}
